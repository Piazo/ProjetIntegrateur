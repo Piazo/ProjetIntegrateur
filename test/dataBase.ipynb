{
 "cells": [
  {
   "cell_type": "code",
   "execution_count": 7,
   "metadata": {},
   "outputs": [
    {
     "name": "stdout",
     "output_type": "stream",
     "text": [
      "Collecting pymongo\n",
      "  Downloading pymongo-4.3.3-cp39-cp39-win_amd64.whl (382 kB)\n",
      "     -------------------------------------- 382.5/382.5 kB 1.6 MB/s eta 0:00:00\n",
      "Collecting dnspython<3.0.0,>=1.16.0\n",
      "  Downloading dnspython-2.3.0-py3-none-any.whl (283 kB)\n",
      "     ------------------------------------- 283.7/283.7 kB 17.1 MB/s eta 0:00:00\n",
      "Installing collected packages: dnspython, pymongo\n",
      "Successfully installed dnspython-2.3.0 pymongo-4.3.3\n",
      "Note: you may need to restart the kernel to use updated packages.\n"
     ]
    }
   ],
   "source": [
    "pip install pymongo"
   ]
  },
  {
   "cell_type": "code",
   "execution_count": 49,
   "metadata": {},
   "outputs": [],
   "source": [
    "import pymongo\n",
    "from urllib.request import urlopen\n",
    "from pymongo import MongoClient\n",
    "from flask import Flask, request\n",
    "import json\n",
    "\n",
    "app = Flask(__name__)\n",
    "\n",
    "class dataBase:\n",
    "    @app.route(\"/BDDMicroservice/getDB\")\n",
    "    def get_latencies_database():\n",
    "        \n",
    "        client = MongoClient(host='localhost', port=27017)\n",
    "        db=client['database'] \n",
    "        node1_coll = db['node1_coll'] \n",
    "        node2_coll = db['node2_coll'] \n",
    "        node3_coll = db['node3_coll'] \n",
    "        latencies1= []\n",
    "        latencies2= []\n",
    "        latencies3= []\n",
    "        last_six1 = node1_coll.find().sort(\"_id\", -1).limit(6)\n",
    "        last_six2 = node1_coll.find().sort(\"_id\", -1).limit(6)\n",
    "        last_six3 = node1_coll.find().sort(\"_id\", -1).limit(6)\n",
    "        \n",
    "        for doc in last_six1:\n",
    "            latencies1.append(doc.get(\"Moyenne\"))\n",
    "        for doc in last_six2:\n",
    "            latencies2.append(doc.get(\"Moyenne\"))\n",
    "        for doc in last_six3:\n",
    "            latencies3.append(doc.get(\"Moyenne\"))\n",
    "        \n",
    "        data = [latencies1, latencies2, latencies3]\n",
    "\n",
    "        json_data = json.dumps(data)\n",
    "        print(json_data)\n",
    "        \n",
    "        return json_data\n",
    "        \n",
    "\n",
    "    @app.route(\"/BDDMicroservice/insert\", methods=['POST']) \n",
    "    def insert_database():\n",
    "        json_data= request.get_json(force=True)\n",
    "        node = str(json_data.get('node'))\n",
    "        Moyenne= json_data.get('moyenne')\n",
    "        data=[{\"Moyenne\":float(Moyenne)}]\n",
    "        \n",
    "        client = MongoClient(host='localhost', port=27017)\n",
    "        db=client['database'] \n",
    "        if (node=='1'):\n",
    "            db.node1_coll.insert_many(data)\n",
    "        if (node=='2'):\n",
    "            db.node2_coll.insert_many(data)\n",
    "        if (node=='3'):\n",
    "            db.node3_coll.insert_many(data)\n",
    "        return \"insert ok\""
   ]
  },
  {
   "cell_type": "code",
   "execution_count": null,
   "metadata": {},
   "outputs": [
    {
     "name": "stdout",
     "output_type": "stream",
     "text": [
      " * Serving Flask app \"__main__\" (lazy loading)\n",
      " * Environment: production\n",
      "\u001b[31m   WARNING: This is a development server. Do not use it in a production deployment.\u001b[0m\n",
      "\u001b[2m   Use a production WSGI server instead.\u001b[0m\n",
      " * Debug mode: off\n"
     ]
    },
    {
     "name": "stderr",
     "output_type": "stream",
     "text": [
      " * Running on all addresses.\n",
      "   WARNING: This is a development server. Do not use it in a production deployment.\n",
      " * Running on http://10.189.27.241:50004/ (Press CTRL+C to quit)\n",
      "127.0.0.1 - - [23/Jan/2023 17:33:34] \"GET /BDDMicroservice/getDB HTTP/1.1\" 200 -\n"
     ]
    },
    {
     "name": "stdout",
     "output_type": "stream",
     "text": [
      "[[0.222222, 0.1253852, 0.4656122, 0.7846134, 0.4612456, 0.5651561], [0.222222, 0.1253852, 0.4656122, 0.7846134, 0.4612456, 0.5651561], [0.222222, 0.1253852, 0.4656122, 0.7846134, 0.4612456, 0.5651561]]\n"
     ]
    },
    {
     "name": "stderr",
     "output_type": "stream",
     "text": [
      "127.0.0.1 - - [23/Jan/2023 17:39:47] \"GET /BDDMicroservice/getDB HTTP/1.1\" 200 -\n"
     ]
    },
    {
     "name": "stdout",
     "output_type": "stream",
     "text": [
      "[[0.222222, 0.1253852, 0.4656122, 0.7846134, 0.4612456, 0.5651561], [0.222222, 0.1253852, 0.4656122, 0.7846134, 0.4612456, 0.5651561], [0.222222, 0.1253852, 0.4656122, 0.7846134, 0.4612456, 0.5651561]]\n"
     ]
    },
    {
     "name": "stderr",
     "output_type": "stream",
     "text": [
      "127.0.0.1 - - [23/Jan/2023 17:39:56] \"GET /BDDMicroservice/getDB HTTP/1.1\" 200 -\n"
     ]
    },
    {
     "name": "stdout",
     "output_type": "stream",
     "text": [
      "[[0.222222, 0.1253852, 0.4656122, 0.7846134, 0.4612456, 0.5651561], [0.222222, 0.1253852, 0.4656122, 0.7846134, 0.4612456, 0.5651561], [0.222222, 0.1253852, 0.4656122, 0.7846134, 0.4612456, 0.5651561]]\n"
     ]
    }
   ],
   "source": [
    "app.run(port=50004, host=\"0.0.0.0\")"
   ]
  },
  {
   "cell_type": "code",
   "execution_count": 37,
   "metadata": {},
   "outputs": [
    {
     "data": {
      "text/plain": [
       "<pymongo.results.InsertManyResult at 0x2b289cdc070>"
      ]
     },
     "execution_count": 37,
     "metadata": {},
     "output_type": "execute_result"
    }
   ],
   "source": [
    "\n",
    "data=[\n",
    "        {\"Moyenne\":0.1253647},\n",
    "        {\"Moyenne\":0.5651561},\n",
    "        {\"Moyenne\":0.4612456},\n",
    "        {\"Moyenne\":0.7846134},\n",
    "        {\"Moyenne\":0.4656122},\n",
    "        {\"Moyenne\":0.1253852},\n",
    "    ]\n",
    "client = MongoClient(host='localhost', port=27017)\n",
    "db=client['database'] \n",
    "db.node1_coll.insert_many(data)\n",
    "db.node2_coll.insert_many(data)\n",
    "db.node3_coll.insert_many(data)"
   ]
  },
  {
   "cell_type": "code",
   "execution_count": null,
   "metadata": {},
   "outputs": [],
   "source": []
  }
 ],
 "metadata": {
  "kernelspec": {
   "display_name": "Python 3 (ipykernel)",
   "language": "python",
   "name": "python3"
  },
  "language_info": {
   "codemirror_mode": {
    "name": "ipython",
    "version": 3
   },
   "file_extension": ".py",
   "mimetype": "text/x-python",
   "name": "python",
   "nbconvert_exporter": "python",
   "pygments_lexer": "ipython3",
   "version": "3.9.13"
  }
 },
 "nbformat": 4,
 "nbformat_minor": 2
}
