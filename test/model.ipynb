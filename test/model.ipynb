{
 "cells": [
  {
   "cell_type": "code",
   "execution_count": 26,
   "metadata": {},
   "outputs": [],
   "source": [
    "from typing_extensions import Self\n",
    "from flask import Flask, jsonify, request\n",
    "import random\n",
    "#import modelMicroserviceModel\n",
    "#import mysql.connector \n",
    "\n",
    "\n",
    "app = Flask(__name__)\n",
    "\n",
    "class modelMicroserviceControler:\n",
    "\n",
    "    def predictedLatency():\n",
    "        latency= random.random()\n",
    "        return latency\n",
    "\n",
    "    @app.route(\"/predict\", methods=['GET'])\n",
    "    def predict(): \n",
    "        args = request.args\n",
    "        node = args.get('node')\n",
    "        latency= modelMicroserviceControler.predictedLatency()\n",
    "        latencyjson={\"latency1\": latency}\n",
    "        return latencyjson"
   ]
  },
  {
   "cell_type": "code",
   "execution_count": null,
   "metadata": {
    "scrolled": true
   },
   "outputs": [
    {
     "name": "stdout",
     "output_type": "stream",
     "text": [
      " * Serving Flask app \"__main__\" (lazy loading)\n",
      " * Environment: production\n",
      "\u001b[31m   WARNING: This is a development server. Do not use it in a production deployment.\u001b[0m\n",
      "\u001b[2m   Use a production WSGI server instead.\u001b[0m\n",
      " * Debug mode: off\n"
     ]
    },
    {
     "name": "stderr",
     "output_type": "stream",
     "text": [
      " * Running on http://127.0.0.1:5000/ (Press CTRL+C to quit)\n",
      "127.0.0.1 - - [18/Jan/2023 23:34:58] \"GET /predict?node=1 HTTP/1.1\" 200 -\n",
      "127.0.0.1 - - [18/Jan/2023 23:35:00] \"GET /predict?node=1 HTTP/1.1\" 200 -\n",
      "127.0.0.1 - - [18/Jan/2023 23:35:02] \"GET /predict?node=1 HTTP/1.1\" 200 -\n",
      "127.0.0.1 - - [18/Jan/2023 23:36:09] \"GET /predict?node=1 HTTP/1.1\" 200 -\n",
      "127.0.0.1 - - [18/Jan/2023 23:36:11] \"GET /predict?node=1 HTTP/1.1\" 200 -\n",
      "127.0.0.1 - - [18/Jan/2023 23:36:13] \"GET /predict?node=1 HTTP/1.1\" 200 -\n",
      "127.0.0.1 - - [18/Jan/2023 23:40:03] \"GET /predict?node=1 HTTP/1.1\" 200 -\n",
      "127.0.0.1 - - [18/Jan/2023 23:40:05] \"GET /predict?node=1 HTTP/1.1\" 200 -\n",
      "127.0.0.1 - - [18/Jan/2023 23:40:07] \"GET /predict?node=1 HTTP/1.1\" 200 -\n",
      "127.0.0.1 - - [18/Jan/2023 23:41:05] \"GET /predict?node=1 HTTP/1.1\" 200 -\n",
      "127.0.0.1 - - [18/Jan/2023 23:41:07] \"GET /predict?node=1 HTTP/1.1\" 200 -\n",
      "127.0.0.1 - - [18/Jan/2023 23:41:09] \"GET /predict?node=1 HTTP/1.1\" 200 -\n"
     ]
    }
   ],
   "source": [
    "app.run(port=5000)  "
   ]
  },
  {
   "cell_type": "code",
   "execution_count": null,
   "metadata": {},
   "outputs": [],
   "source": []
  }
 ],
 "metadata": {
  "kernelspec": {
   "display_name": "Python 3 (ipykernel)",
   "language": "python",
   "name": "python3"
  },
  "language_info": {
   "codemirror_mode": {
    "name": "ipython",
    "version": 3
   },
   "file_extension": ".py",
   "mimetype": "text/x-python",
   "name": "python",
   "nbconvert_exporter": "python",
   "pygments_lexer": "ipython3",
   "version": "3.9.13"
  }
 },
 "nbformat": 4,
 "nbformat_minor": 2
}
