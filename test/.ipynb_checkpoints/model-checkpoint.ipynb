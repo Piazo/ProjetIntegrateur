{
 "cells": [
  {
   "cell_type": "code",
   "execution_count": 9,
   "metadata": {},
   "outputs": [],
   "source": [
    "from typing_extensions import Self\n",
    "from flask import Flask, jsonify, request\n",
    "import random\n",
    "#import modelMicroserviceModel\n",
    "#import mysql.connector \n",
    "\n",
    "\n",
    "app = Flask(__name__)\n",
    "\n",
    "class modelMicroserviceControler:\n",
    "\n",
    "    def predictedLatency():\n",
    "        latency= random.random()\n",
    "        return latency\n",
    "\n",
    "    @app.route(\"/predict\", methods=['GET'])\n",
    "    def predict(): \n",
    "        args = request.args\n",
    "        node = args.get('node')\n",
    "        latency= str(modelMicroserviceControler.predictedLatency())\n",
    "        return latency"
   ]
  },
  {
   "cell_type": "code",
   "execution_count": 10,
   "metadata": {
    "scrolled": true
   },
   "outputs": [
    {
     "name": "stdout",
     "output_type": "stream",
     "text": [
      " * Serving Flask app \"__main__\" (lazy loading)\n",
      " * Environment: production\n",
      "\u001b[31m   WARNING: This is a development server. Do not use it in a production deployment.\u001b[0m\n",
      "\u001b[2m   Use a production WSGI server instead.\u001b[0m\n",
      " * Debug mode: off\n"
     ]
    },
    {
     "name": "stderr",
     "output_type": "stream",
     "text": [
      " * Running on all addresses.\n",
      "   WARNING: This is a development server. Do not use it in a production deployment.\n",
      " * Running on http://172.20.10.6:50000/ (Press CTRL+C to quit)\n",
      "127.0.0.1 - - [19/Jan/2023 14:27:12] \"GET /predict?node=1 HTTP/1.1\" 200 -\n",
      "127.0.0.1 - - [19/Jan/2023 14:27:14] \"GET /predict?node=1 HTTP/1.1\" 200 -\n",
      "127.0.0.1 - - [19/Jan/2023 14:27:16] \"GET /predict?node=1 HTTP/1.1\" 200 -\n",
      "127.0.0.1 - - [19/Jan/2023 14:31:53] \"GET /predict?node=1 HTTP/1.1\" 200 -\n",
      "127.0.0.1 - - [19/Jan/2023 14:31:55] \"GET /predict?node=1 HTTP/1.1\" 200 -\n",
      "127.0.0.1 - - [19/Jan/2023 14:31:57] \"GET /predict?node=1 HTTP/1.1\" 200 -\n",
      "127.0.0.1 - - [19/Jan/2023 14:33:32] \"GET /predict?node=1 HTTP/1.1\" 200 -\n",
      "127.0.0.1 - - [19/Jan/2023 14:33:34] \"GET /predict?node=1 HTTP/1.1\" 200 -\n",
      "127.0.0.1 - - [19/Jan/2023 14:33:36] \"GET /predict?node=1 HTTP/1.1\" 200 -\n",
      "127.0.0.1 - - [19/Jan/2023 14:34:55] \"GET /predict?node=1 HTTP/1.1\" 200 -\n",
      "127.0.0.1 - - [19/Jan/2023 14:34:57] \"GET /predict?node=1 HTTP/1.1\" 200 -\n",
      "127.0.0.1 - - [19/Jan/2023 14:34:59] \"GET /predict?node=1 HTTP/1.1\" 200 -\n",
      "127.0.0.1 - - [19/Jan/2023 14:36:36] \"GET /predict?node=1 HTTP/1.1\" 200 -\n",
      "127.0.0.1 - - [19/Jan/2023 14:36:38] \"GET /predict?node=1 HTTP/1.1\" 200 -\n",
      "127.0.0.1 - - [19/Jan/2023 14:36:40] \"GET /predict?node=1 HTTP/1.1\" 200 -\n",
      "127.0.0.1 - - [19/Jan/2023 14:37:23] \"GET /predict?node=1 HTTP/1.1\" 200 -\n",
      "127.0.0.1 - - [19/Jan/2023 14:37:25] \"GET /predict?node=1 HTTP/1.1\" 200 -\n",
      "127.0.0.1 - - [19/Jan/2023 14:37:28] \"GET /predict?node=1 HTTP/1.1\" 200 -\n",
      "127.0.0.1 - - [19/Jan/2023 14:38:43] \"GET /predict?node=1 HTTP/1.1\" 200 -\n",
      "127.0.0.1 - - [19/Jan/2023 14:38:45] \"GET /predict?node=1 HTTP/1.1\" 200 -\n",
      "127.0.0.1 - - [19/Jan/2023 14:38:48] \"GET /predict?node=1 HTTP/1.1\" 200 -\n",
      "127.0.0.1 - - [19/Jan/2023 14:39:42] \"GET /predict?node=1 HTTP/1.1\" 200 -\n",
      "127.0.0.1 - - [19/Jan/2023 14:39:44] \"GET /predict?node=1 HTTP/1.1\" 200 -\n",
      "127.0.0.1 - - [19/Jan/2023 14:39:46] \"GET /predict?node=1 HTTP/1.1\" 200 -\n",
      "127.0.0.1 - - [19/Jan/2023 14:41:02] \"GET /predict?node=1 HTTP/1.1\" 200 -\n",
      "127.0.0.1 - - [19/Jan/2023 14:41:04] \"GET /predict?node=1 HTTP/1.1\" 200 -\n",
      "127.0.0.1 - - [19/Jan/2023 14:41:06] \"GET /predict?node=1 HTTP/1.1\" 200 -\n"
     ]
    }
   ],
   "source": [
    "app.run(port=50000, host=\"0.0.0.0\")  "
   ]
  },
  {
   "cell_type": "code",
   "execution_count": null,
   "metadata": {},
   "outputs": [],
   "source": []
  }
 ],
 "metadata": {
  "kernelspec": {
   "display_name": "Python 3 (ipykernel)",
   "language": "python",
   "name": "python3"
  },
  "language_info": {
   "codemirror_mode": {
    "name": "ipython",
    "version": 3
   },
   "file_extension": ".py",
   "mimetype": "text/x-python",
   "name": "python",
   "nbconvert_exporter": "python",
   "pygments_lexer": "ipython3",
   "version": "3.9.13"
  }
 },
 "nbformat": 4,
 "nbformat_minor": 2
}
