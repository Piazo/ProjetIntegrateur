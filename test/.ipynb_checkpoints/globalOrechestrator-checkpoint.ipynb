{
 "cells": [
  {
   "cell_type": "code",
   "execution_count": 27,
   "metadata": {},
   "outputs": [],
   "source": [
    "from urllib.request import Request\n",
    "from flask import Flask, jsonify, request\n",
    "import json\n",
    "import requests\n",
    "\n",
    "\n",
    "app = Flask(__name__)\n",
    "\n",
    "class globalOrchestrator:\n",
    "    @app.route(\"/getUrl\", methods=['GET'])\n",
    "    def getNewZone():\n",
    "        args = request.args\n",
    "        zone = args.get('zone')\n",
    "        if (zone==\"1\"):\n",
    "            #l'orchestrator renvoie au local orchestrator l'url du local orchestrator 1 \n",
    "            newZone= \"http://localhost:50002//app/bestnode/\"\n",
    "        elif (zone==\"2\"):\n",
    "            #l'orchestrator renvoie au local orchestrator l'url du local orchestrator 2 \n",
    "            newZone= \"http://localhost:50002//app/bestnode/\"\n",
    "        elif (zone==\"3\"):\n",
    "            #l'orchestrator renvoie au local orchestrator l'url du local orchestrator 3 \n",
    "            newZone= \"http://localhost:50002//app/bestnode/\"\n",
    "        return newZone"
   ]
  },
  {
   "cell_type": "code",
   "execution_count": 28,
   "metadata": {
    "scrolled": false
   },
   "outputs": [
    {
     "name": "stdout",
     "output_type": "stream",
     "text": [
      " * Serving Flask app \"__main__\" (lazy loading)\n",
      " * Environment: production\n",
      "\u001b[31m   WARNING: This is a development server. Do not use it in a production deployment.\u001b[0m\n",
      "\u001b[2m   Use a production WSGI server instead.\u001b[0m\n",
      " * Debug mode: off\n"
     ]
    },
    {
     "name": "stderr",
     "output_type": "stream",
     "text": [
      " * Running on all addresses.\n",
      "   WARNING: This is a development server. Do not use it in a production deployment.\n",
      " * Running on http://172.20.10.6:50003/ (Press CTRL+C to quit)\n",
      "127.0.0.1 - - [19/Jan/2023 14:41:14] \"GET /getUrl?zone=1 HTTP/1.1\" 200 -\n"
     ]
    }
   ],
   "source": [
    "app.run(port=50003, host=\"0.0.0.0\") "
   ]
  },
  {
   "cell_type": "code",
   "execution_count": null,
   "metadata": {},
   "outputs": [],
   "source": []
  }
 ],
 "metadata": {
  "kernelspec": {
   "display_name": "Python 3 (ipykernel)",
   "language": "python",
   "name": "python3"
  },
  "language_info": {
   "codemirror_mode": {
    "name": "ipython",
    "version": 3
   },
   "file_extension": ".py",
   "mimetype": "text/x-python",
   "name": "python",
   "nbconvert_exporter": "python",
   "pygments_lexer": "ipython3",
   "version": "3.9.13"
  }
 },
 "nbformat": 4,
 "nbformat_minor": 2
}
