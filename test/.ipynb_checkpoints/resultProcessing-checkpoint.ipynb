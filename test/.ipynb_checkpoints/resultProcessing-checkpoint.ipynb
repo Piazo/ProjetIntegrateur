{
 "cells": [
  {
   "cell_type": "code",
   "execution_count": 24,
   "metadata": {},
   "outputs": [],
   "source": [
    "from flask import Flask, request\n",
    "\n",
    "app = Flask(__name__)\n",
    "\n",
    "class resultProcessingControler(): \n",
    "    @app.route(\"/getResult\")\n",
    "    #Fonction qui choisit le meilleur noeur parmis ces noeuds\n",
    "    def best_node():\n",
    "        best = 10000000\n",
    "        listNode= request.get_json(force=True)\n",
    "        for i in range(len(listNode)):\n",
    "            value= float(listNode[i])\n",
    "            if value < best : \n",
    "                best = value\n",
    "                bestNode = i+1\n",
    "        return str(bestNode)\n"
   ]
  },
  {
   "cell_type": "code",
   "execution_count": 25,
   "metadata": {},
   "outputs": [
    {
     "name": "stdout",
     "output_type": "stream",
     "text": [
      " * Serving Flask app \"__main__\" (lazy loading)\n",
      " * Environment: production\n",
      "\u001b[31m   WARNING: This is a development server. Do not use it in a production deployment.\u001b[0m\n",
      "\u001b[2m   Use a production WSGI server instead.\u001b[0m\n",
      " * Debug mode: off\n"
     ]
    },
    {
     "name": "stderr",
     "output_type": "stream",
     "text": [
      " * Running on all addresses.\n",
      "   WARNING: This is a development server. Do not use it in a production deployment.\n",
      " * Running on http://172.20.10.6:50001/ (Press CTRL+C to quit)\n",
      "127.0.0.1 - - [19/Jan/2023 14:41:08] \"GET /getResult HTTP/1.1\" 200 -\n"
     ]
    }
   ],
   "source": [
    "app.run(port=50001, host=\"0.0.0.0\")  "
   ]
  },
  {
   "cell_type": "code",
   "execution_count": null,
   "metadata": {},
   "outputs": [],
   "source": []
  }
 ],
 "metadata": {
  "kernelspec": {
   "display_name": "Python 3 (ipykernel)",
   "language": "python",
   "name": "python3"
  },
  "language_info": {
   "codemirror_mode": {
    "name": "ipython",
    "version": 3
   },
   "file_extension": ".py",
   "mimetype": "text/x-python",
   "name": "python",
   "nbconvert_exporter": "python",
   "pygments_lexer": "ipython3",
   "version": "3.9.13"
  }
 },
 "nbformat": 4,
 "nbformat_minor": 2
}
