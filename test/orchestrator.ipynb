{
 "cells": [
  {
   "cell_type": "code",
   "execution_count": 37,
   "metadata": {},
   "outputs": [],
   "source": [
    "from urllib.request import urlopen\n",
    "from flask import Flask, jsonify, request\n",
    "import json\n",
    "import requests\n",
    "\n",
    "app = Flask(__name__)\n",
    "\n",
    "class orchestator:\n",
    "    @app.route(\"/app/bestnode/\", methods=['GET'])\n",
    "    def getBestNode():\n",
    "       \n",
    "        latencyList= []\n",
    "        bestNode={}\n",
    "        #send requests to prediction microservice \n",
    "        for i in range(3):\n",
    "            latency= requests.get('http://localhost:5000/predict?node=1')\n",
    "            latencyList.append(latency.text)\n",
    "        print(latencyList)\n",
    "\n",
    "        #send list of latencies to result processing microservice and return the best nodes\n",
    "        bestNode=requests.get('http://localhost:5001/getResult', json=latencyList)\n",
    "        return bestNode.text\n",
    "\n",
    "    @app.route(\"/app/changezone/{int:zone}\")\n",
    "    def changezone(zone: int):\n",
    "        # send messsge to global orchestrator\n",
    "        url=requests.get('http://localhost:4998/getUrl/{int:zone}')\n",
    "        return url"
   ]
  },
  {
   "cell_type": "code",
   "execution_count": null,
   "metadata": {},
   "outputs": [
    {
     "name": "stdout",
     "output_type": "stream",
     "text": [
      " * Serving Flask app \"__main__\" (lazy loading)\n",
      " * Environment: production\n",
      "\u001b[31m   WARNING: This is a development server. Do not use it in a production deployment.\u001b[0m\n",
      "\u001b[2m   Use a production WSGI server instead.\u001b[0m\n",
      " * Debug mode: off\n"
     ]
    },
    {
     "name": "stderr",
     "output_type": "stream",
     "text": [
      " * Running on http://127.0.0.1:4999/ (Press CTRL+C to quit)\n"
     ]
    },
    {
     "name": "stdout",
     "output_type": "stream",
     "text": [
      "['{\"latency1\":0.001382921109432944}\\n', '{\"latency1\":0.9737870706241055}\\n', '{\"latency1\":0.6171863479385127}\\n']\n"
     ]
    },
    {
     "name": "stderr",
     "output_type": "stream",
     "text": [
      "127.0.0.1 - - [18/Jan/2023 23:40:09] \"GET /app/bestnode/ HTTP/1.1\" 200 -\n"
     ]
    },
    {
     "name": "stdout",
     "output_type": "stream",
     "text": [
      "['{\"latency1\":0.30409730427104653}\\n', '{\"latency1\":0.003686924391542057}\\n', '{\"latency1\":0.9370840918713269}\\n']\n"
     ]
    },
    {
     "name": "stderr",
     "output_type": "stream",
     "text": [
      "127.0.0.1 - - [18/Jan/2023 23:41:11] \"GET /app/bestnode/ HTTP/1.1\" 200 -\n"
     ]
    }
   ],
   "source": [
    "app.run(port=4999)  "
   ]
  },
  {
   "cell_type": "code",
   "execution_count": null,
   "metadata": {},
   "outputs": [],
   "source": []
  }
 ],
 "metadata": {
  "kernelspec": {
   "display_name": "Python 3 (ipykernel)",
   "language": "python",
   "name": "python3"
  },
  "language_info": {
   "codemirror_mode": {
    "name": "ipython",
    "version": 3
   },
   "file_extension": ".py",
   "mimetype": "text/x-python",
   "name": "python",
   "nbconvert_exporter": "python",
   "pygments_lexer": "ipython3",
   "version": "3.9.13"
  }
 },
 "nbformat": 4,
 "nbformat_minor": 2
}
