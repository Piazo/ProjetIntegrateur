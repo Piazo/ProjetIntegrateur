{
 "cells": [
  {
   "cell_type": "code",
   "execution_count": 61,
   "metadata": {},
   "outputs": [],
   "source": [
    "from urllib.request import urlopen\n",
    "from flask import Flask, jsonify, request\n",
    "import json\n",
    "import requests\n",
    "\n",
    "app = Flask(__name__)\n",
    "\n",
    "class orchestator:\n",
    "    @app.route(\"/app/bestnode/\", methods=['GET'])\n",
    "    def getBestNode():\n",
    "       \n",
    "        latencyList= []\n",
    "        bestNode={}\n",
    "        #send requests to prediction microservice \n",
    "        for i in range(3):\n",
    "            latency= requests.get('http://localhost:50000/predict?node=1')\n",
    "            latencyList.append(latency.text)\n",
    "        print(latencyList)\n",
    "\n",
    "        #send list of latencies to result processing microservice and return the best nodes\n",
    "        bestNode=requests.get('http://localhost:50001/getResult', json=latencyList)\n",
    "        return bestNode.text\n",
    "\n",
    "    @app.route(\"/app/changezone/\", methods=['GET'])\n",
    "    def changezone():\n",
    "        args = request.args\n",
    "        zone = args.get('zone')\n",
    "        # send messsge to global orchestrator\n",
    "        url=requests.get('http://localhost:50003/getUrl?zone=1')\n",
    "        return url.text"
   ]
  },
  {
   "cell_type": "code",
   "execution_count": 62,
   "metadata": {
    "scrolled": true
   },
   "outputs": [
    {
     "name": "stdout",
     "output_type": "stream",
     "text": [
      " * Serving Flask app \"__main__\" (lazy loading)\n",
      " * Environment: production\n",
      "\u001b[31m   WARNING: This is a development server. Do not use it in a production deployment.\u001b[0m\n",
      "\u001b[2m   Use a production WSGI server instead.\u001b[0m\n",
      " * Debug mode: off\n"
     ]
    },
    {
     "name": "stderr",
     "output_type": "stream",
     "text": [
      " * Running on all addresses.\n",
      "   WARNING: This is a development server. Do not use it in a production deployment.\n",
      " * Running on http://172.20.10.6:50002/ (Press CTRL+C to quit)\n"
     ]
    },
    {
     "name": "stdout",
     "output_type": "stream",
     "text": [
      "['0.5368372176797219', '0.46512242398414994', '0.6522846999822745']\n"
     ]
    },
    {
     "name": "stderr",
     "output_type": "stream",
     "text": [
      "127.0.0.1 - - [19/Jan/2023 14:41:08] \"GET /app/bestnode/ HTTP/1.1\" 200 -\n",
      "127.0.0.1 - - [19/Jan/2023 14:41:10] \"GET /app/changezone?zone=1 HTTP/1.1\" 308 -\n",
      "127.0.0.1 - - [19/Jan/2023 14:41:14] \"GET /app/changezone/?zone=1 HTTP/1.1\" 200 -\n"
     ]
    }
   ],
   "source": [
    "app.run(port=50002, host=\"0.0.0.0\")  "
   ]
  },
  {
   "cell_type": "code",
   "execution_count": null,
   "metadata": {},
   "outputs": [],
   "source": []
  }
 ],
 "metadata": {
  "kernelspec": {
   "display_name": "Python 3 (ipykernel)",
   "language": "python",
   "name": "python3"
  },
  "language_info": {
   "codemirror_mode": {
    "name": "ipython",
    "version": 3
   },
   "file_extension": ".py",
   "mimetype": "text/x-python",
   "name": "python",
   "nbconvert_exporter": "python",
   "pygments_lexer": "ipython3",
   "version": "3.9.13"
  }
 },
 "nbformat": 4,
 "nbformat_minor": 2
}
