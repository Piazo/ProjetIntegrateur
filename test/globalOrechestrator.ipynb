{
 "cells": [
  {
   "cell_type": "code",
   "execution_count": 1,
   "metadata": {},
   "outputs": [],
   "source": [
    "from urllib.request import Request\n",
    "from flask import Flask\n",
    "\n",
    "\n",
    "app = Flask(__name__)\n",
    "\n",
    "class globalOrchestrator:\n",
    "    @app.route(\"/getUrl/{int:zone}\")\n",
    "    def getNewZone(zone: int):\n",
    "        bestNode=0\n",
    "        if (zone==1):\n",
    "            #l'orchestrator renvoie au local orchestrator l'url du local orchestrator 1 \n",
    "            newZone= \"http://localhost:4999//app/bestnode/\"\n",
    "        elif (zone==2):\n",
    "            #l'orchestrator renvoie au local orchestrator l'url du local orchestrator 2 \n",
    "            newZone= \"http://localhost:4999//app/bestnode/\"\n",
    "        elif (zone==3):\n",
    "            #l'orchestrator renvoie au local orchestrator l'url du local orchestrator 3 \n",
    "            newZone= \"http://localhost:4999//app/bestnode/\"\n",
    "        return newZone"
   ]
  },
  {
   "cell_type": "code",
   "execution_count": 2,
   "metadata": {},
   "outputs": [
    {
     "name": "stdout",
     "output_type": "stream",
     "text": [
      " * Serving Flask app \"__main__\" (lazy loading)\n",
      " * Environment: production\n",
      "\u001b[31m   WARNING: This is a development server. Do not use it in a production deployment.\u001b[0m\n",
      "\u001b[2m   Use a production WSGI server instead.\u001b[0m\n",
      " * Debug mode: off\n"
     ]
    },
    {
     "name": "stderr",
     "output_type": "stream",
     "text": [
      " * Running on http://127.0.0.1:4998/ (Press CTRL+C to quit)\n"
     ]
    }
   ],
   "source": [
    "app.run(port=4998) "
   ]
  }
 ],
 "metadata": {
  "kernelspec": {
   "display_name": "Python 3 (ipykernel)",
   "language": "python",
   "name": "python3"
  },
  "language_info": {
   "codemirror_mode": {
    "name": "ipython",
    "version": 3
   },
   "file_extension": ".py",
   "mimetype": "text/x-python",
   "name": "python",
   "nbconvert_exporter": "python",
   "pygments_lexer": "ipython3",
   "version": "3.9.13"
  }
 },
 "nbformat": 4,
 "nbformat_minor": 2
}
