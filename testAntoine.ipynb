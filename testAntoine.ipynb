{
 "cells": [
  {
   "cell_type": "code",
   "execution_count": 11,
   "metadata": {},
   "outputs": [],
   "source": [
    "import catboost\n",
    "import pandas as pd\n",
    "import csv\n",
    "import numpy as np\n",
    "from scipy import stats\n",
    "import lightgbm as lgb\n",
    "import xgboost as xgb\n",
    "import catboost as ctb\n",
    "import seaborn as sns\n",
    "\n",
    "from sklearn.preprocessing import OneHotEncoder, MinMaxScaler\n",
    "from sklearn.model_selection import train_test_split\n",
    "from sklearn.metrics import mean_squared_error"
   ]
  },
  {
   "cell_type": "code",
   "execution_count": 3,
   "metadata": {},
   "outputs": [
    {
     "data": {
      "image/png": "[encoded data removed]",
      "text/plain": [
       "<Figure size 640x480 with 1 Axes>"
      ]
     },
     "metadata": {},
     "output_type": "display_data"
    }
   ],
   "source": [
    "df = pd.read_csv(\"./data/value.csv\", sep=\";\")\n",
    "df.dtypes\n",
    "nomCol = df.columns[5]\n",
    "hist = df[nomCol].hist(bins=int(len(pd.unique(df[nomCol]))/10))\n"
   ]
  },
  {
   "cell_type": "code",
   "execution_count": 7,
   "metadata": {},
   "outputs": [
    {
     "name": "stdout",
     "output_type": "stream",
     "text": [
      "0.0590122753\n"
     ]
    }
   ],
   "source": [
    "test = df[(np.abs(stats.zscore(df)) < 3).all(axis=1)]\n",
    "print(df[\"Latence1\"].min())"
   ]
  },
  {
   "cell_type": "code",
   "execution_count": 6,
   "metadata": {},
   "outputs": [
    {
     "data": {
      "text/plain": [
       "<AxesSubplot: xlabel='Latence1'>"
      ]
     },
     "execution_count": 6,
     "metadata": {},
     "output_type": "execute_result"
    },
    {
     "data": {
      "image/png": "[encoded data removed]",
      "text/plain": [
       "<Figure size 640x480 with 1 Axes>"
      ]
     },
     "metadata": {},
     "output_type": "display_data"
    }
   ],
   "source": [
    "sns.boxplot(x=df[\"Latence1\"])"
   ]
  },
  {
   "cell_type": "code",
   "execution_count": 8,
   "metadata": {},
   "outputs": [],
   "source": [
    "y = df[\"Latence1\"]\n",
    "x = df[[\"CPU1\", \"RAM1\"]]\n",
    "X_train, X_test, y_train, y_test = train_test_split(x, y, test_size=0.2, random_state=0)"
   ]
  },
  {
   "cell_type": "code",
   "execution_count": 13,
   "metadata": {},
   "outputs": [
    {
     "data": {
      "text/html": [
       "<div>\n",
       "<style scoped>\n",
       "    .dataframe tbody tr th:only-of-type {\n",
       "        vertical-align: middle;\n",
       "    }\n",
       "\n",
       "    .dataframe tbody tr th {\n",
       "        vertical-align: top;\n",
       "    }\n",
       "\n",
       "    .dataframe thead th {\n",
       "        text-align: right;\n",
       "    }\n",
       "</style>\n",
       "<table border=\"1\" class=\"dataframe\">\n",
       "  <thead>\n",
       "    <tr style=\"text-align: right;\">\n",
       "      <th></th>\n",
       "      <th>CPU1</th>\n",
       "      <th>RAM1</th>\n",
       "    </tr>\n",
       "  </thead>\n",
       "  <tbody>\n",
       "    <tr>\n",
       "      <th>17815</th>\n",
       "      <td>0.51</td>\n",
       "      <td>0.4</td>\n",
       "    </tr>\n",
       "    <tr>\n",
       "      <th>18370</th>\n",
       "      <td>0.46</td>\n",
       "      <td>0.5</td>\n",
       "    </tr>\n",
       "    <tr>\n",
       "      <th>1379</th>\n",
       "      <td>0.76</td>\n",
       "      <td>0.3</td>\n",
       "    </tr>\n",
       "    <tr>\n",
       "      <th>14763</th>\n",
       "      <td>0.35</td>\n",
       "      <td>0.7</td>\n",
       "    </tr>\n",
       "    <tr>\n",
       "      <th>7346</th>\n",
       "      <td>0.54</td>\n",
       "      <td>0.4</td>\n",
       "    </tr>\n",
       "    <tr>\n",
       "      <th>...</th>\n",
       "      <td>...</td>\n",
       "      <td>...</td>\n",
       "    </tr>\n",
       "    <tr>\n",
       "      <th>13123</th>\n",
       "      <td>0.80</td>\n",
       "      <td>0.5</td>\n",
       "    </tr>\n",
       "    <tr>\n",
       "      <th>19648</th>\n",
       "      <td>0.48</td>\n",
       "      <td>0.5</td>\n",
       "    </tr>\n",
       "    <tr>\n",
       "      <th>9845</th>\n",
       "      <td>0.58</td>\n",
       "      <td>0.4</td>\n",
       "    </tr>\n",
       "    <tr>\n",
       "      <th>10799</th>\n",
       "      <td>0.71</td>\n",
       "      <td>0.5</td>\n",
       "    </tr>\n",
       "    <tr>\n",
       "      <th>2732</th>\n",
       "      <td>0.40</td>\n",
       "      <td>0.5</td>\n",
       "    </tr>\n",
       "  </tbody>\n",
       "</table>\n",
       "<p>16000 rows × 2 columns</p>\n",
       "</div>"
      ],
      "text/plain": [
       "       CPU1  RAM1\n",
       "17815  0.51   0.4\n",
       "18370  0.46   0.5\n",
       "1379   0.76   0.3\n",
       "14763  0.35   0.7\n",
       "7346   0.54   0.4\n",
       "...     ...   ...\n",
       "13123  0.80   0.5\n",
       "19648  0.48   0.5\n",
       "9845   0.58   0.4\n",
       "10799  0.71   0.5\n",
       "2732   0.40   0.5\n",
       "\n",
       "[16000 rows x 2 columns]"
      ]
     },
     "execution_count": 13,
     "metadata": {},
     "output_type": "execute_result"
    }
   ],
   "source": [
    "X_train"
   ]
  },
  {
   "cell_type": "code",
   "execution_count": 9,
   "metadata": {},
   "outputs": [],
   "source": [
    "model = ctb.CatBoostRegressor(learning_rate=0.3, depth=11, loss_function='RMSE')"
   ]
  },
  {
   "cell_type": "code",
   "execution_count": 12,
   "metadata": {},
   "outputs": [
    {
     "name": "stdout",
     "output_type": "stream",
     "text": [
      "0:\tlearn: 0.1521741\ttotal: 40.2ms\tremaining: 3.18s\n",
      "1:\tlearn: 0.1521013\ttotal: 55ms\tremaining: 2.14s\n",
      "2:\tlearn: 0.1520764\ttotal: 61.1ms\tremaining: 1.57s\n",
      "3:\tlearn: 0.1519641\ttotal: 86.3ms\tremaining: 1.64s\n",
      "4:\tlearn: 0.1518802\ttotal: 100ms\tremaining: 1.51s\n",
      "5:\tlearn: 0.1518683\ttotal: 107ms\tremaining: 1.31s\n",
      "6:\tlearn: 0.1518594\ttotal: 111ms\tremaining: 1.15s\n",
      "7:\tlearn: 0.1518287\ttotal: 118ms\tremaining: 1.06s\n",
      "8:\tlearn: 0.1517969\ttotal: 127ms\tremaining: 1s\n",
      "9:\tlearn: 0.1517717\ttotal: 135ms\tremaining: 943ms\n",
      "10:\tlearn: 0.1517069\ttotal: 157ms\tremaining: 985ms\n",
      "11:\tlearn: 0.1516652\ttotal: 183ms\tremaining: 1.04s\n",
      "12:\tlearn: 0.1516618\ttotal: 187ms\tremaining: 965ms\n",
      "13:\tlearn: 0.1516407\ttotal: 196ms\tremaining: 926ms\n",
      "14:\tlearn: 0.1516006\ttotal: 225ms\tremaining: 975ms\n",
      "15:\tlearn: 0.1515628\ttotal: 253ms\tremaining: 1.01s\n",
      "16:\tlearn: 0.1515129\ttotal: 282ms\tremaining: 1.05s\n",
      "17:\tlearn: 0.1515099\ttotal: 288ms\tremaining: 993ms\n",
      "18:\tlearn: 0.1514974\ttotal: 295ms\tremaining: 946ms\n",
      "19:\tlearn: 0.1514811\ttotal: 301ms\tremaining: 903ms\n",
      "20:\tlearn: 0.1514644\ttotal: 306ms\tremaining: 860ms\n",
      "21:\tlearn: 0.1514631\ttotal: 313ms\tremaining: 825ms\n",
      "22:\tlearn: 0.1514438\ttotal: 324ms\tremaining: 804ms\n",
      "23:\tlearn: 0.1514252\ttotal: 335ms\tremaining: 782ms\n",
      "24:\tlearn: 0.1514152\ttotal: 339ms\tremaining: 746ms\n",
      "25:\tlearn: 0.1514069\ttotal: 344ms\tremaining: 714ms\n",
      "26:\tlearn: 0.1513979\ttotal: 348ms\tremaining: 684ms\n",
      "27:\tlearn: 0.1513605\ttotal: 361ms\tremaining: 671ms\n",
      "28:\tlearn: 0.1512871\ttotal: 375ms\tremaining: 660ms\n",
      "29:\tlearn: 0.1512311\ttotal: 396ms\tremaining: 661ms\n",
      "30:\tlearn: 0.1512117\ttotal: 411ms\tremaining: 649ms\n",
      "31:\tlearn: 0.1511788\ttotal: 438ms\tremaining: 657ms\n",
      "32:\tlearn: 0.1511653\ttotal: 444ms\tremaining: 632ms\n",
      "33:\tlearn: 0.1511530\ttotal: 455ms\tremaining: 615ms\n",
      "34:\tlearn: 0.1511516\ttotal: 459ms\tremaining: 590ms\n",
      "35:\tlearn: 0.1511424\ttotal: 465ms\tremaining: 569ms\n",
      "36:\tlearn: 0.1510920\ttotal: 492ms\tremaining: 572ms\n",
      "37:\tlearn: 0.1510401\ttotal: 521ms\tremaining: 576ms\n",
      "38:\tlearn: 0.1509989\ttotal: 549ms\tremaining: 577ms\n",
      "39:\tlearn: 0.1509815\ttotal: 559ms\tremaining: 559ms\n",
      "40:\tlearn: 0.1509008\ttotal: 587ms\tremaining: 559ms\n",
      "41:\tlearn: 0.1508539\ttotal: 615ms\tremaining: 557ms\n",
      "42:\tlearn: 0.1507777\ttotal: 643ms\tremaining: 554ms\n",
      "43:\tlearn: 0.1507474\ttotal: 672ms\tremaining: 549ms\n",
      "44:\tlearn: 0.1506938\ttotal: 701ms\tremaining: 545ms\n",
      "45:\tlearn: 0.1506668\ttotal: 729ms\tremaining: 539ms\n",
      "46:\tlearn: 0.1506191\ttotal: 758ms\tremaining: 532ms\n",
      "47:\tlearn: 0.1505814\ttotal: 787ms\tremaining: 525ms\n",
      "48:\tlearn: 0.1505511\ttotal: 816ms\tremaining: 516ms\n",
      "49:\tlearn: 0.1505316\ttotal: 851ms\tremaining: 510ms\n",
      "50:\tlearn: 0.1505029\ttotal: 883ms\tremaining: 502ms\n",
      "51:\tlearn: 0.1504698\ttotal: 920ms\tremaining: 495ms\n",
      "52:\tlearn: 0.1504525\ttotal: 953ms\tremaining: 486ms\n",
      "53:\tlearn: 0.1504149\ttotal: 982ms\tremaining: 473ms\n",
      "54:\tlearn: 0.1504054\ttotal: 1.01s\tremaining: 460ms\n",
      "55:\tlearn: 0.1503797\ttotal: 1.04s\tremaining: 447ms\n",
      "56:\tlearn: 0.1503333\ttotal: 1.07s\tremaining: 432ms\n",
      "57:\tlearn: 0.1503224\ttotal: 1.1s\tremaining: 416ms\n",
      "58:\tlearn: 0.1502857\ttotal: 1.13s\tremaining: 401ms\n",
      "59:\tlearn: 0.1502629\ttotal: 1.15s\tremaining: 384ms\n",
      "60:\tlearn: 0.1502484\ttotal: 1.18s\tremaining: 367ms\n",
      "61:\tlearn: 0.1502284\ttotal: 1.21s\tremaining: 351ms\n",
      "62:\tlearn: 0.1501857\ttotal: 1.23s\tremaining: 333ms\n",
      "63:\tlearn: 0.1501535\ttotal: 1.26s\tremaining: 315ms\n",
      "64:\tlearn: 0.1501379\ttotal: 1.28s\tremaining: 297ms\n",
      "65:\tlearn: 0.1501155\ttotal: 1.31s\tremaining: 278ms\n",
      "66:\tlearn: 0.1500932\ttotal: 1.34s\tremaining: 260ms\n",
      "67:\tlearn: 0.1500856\ttotal: 1.37s\tremaining: 242ms\n",
      "68:\tlearn: 0.1500593\ttotal: 1.4s\tremaining: 224ms\n",
      "69:\tlearn: 0.1500515\ttotal: 1.43s\tremaining: 205ms\n",
      "70:\tlearn: 0.1500328\ttotal: 1.46s\tremaining: 185ms\n",
      "71:\tlearn: 0.1500180\ttotal: 1.49s\tremaining: 165ms\n",
      "72:\tlearn: 0.1500122\ttotal: 1.51s\tremaining: 145ms\n",
      "73:\tlearn: 0.1500048\ttotal: 1.54s\tremaining: 125ms\n",
      "74:\tlearn: 0.1499918\ttotal: 1.56s\tremaining: 104ms\n",
      "75:\tlearn: 0.1499734\ttotal: 1.59s\tremaining: 83.6ms\n",
      "76:\tlearn: 0.1499630\ttotal: 1.62s\tremaining: 63ms\n",
      "77:\tlearn: 0.1499426\ttotal: 1.64s\tremaining: 42.1ms\n",
      "78:\tlearn: 0.1499296\ttotal: 1.67s\tremaining: 21.1ms\n",
      "79:\tlearn: 0.1499205\ttotal: 1.69s\tremaining: 0us\n",
      "Train Score: 0.14992049593716078\n",
      "Test Score: 0.15396330335939173\n"
     ]
    }
   ],
   "source": [
    "model.fit(X_train, y_train)\n",
    "\n",
    "train_score = mean_squared_error(y_train, model.predict(X_train), squared=False)\n",
    "test_score = mean_squared_error(y_test, model.predict(X_test), squared=False)\n",
    "\n",
    "print(\"Train Score:\", train_score)\n",
    "print(\"Test Score:\", test_score)"
   ]
  }
 ],
 "metadata": {
  "kernelspec": {
   "display_name": "Python 3.10.8 64-bit (microsoft store)",
   "language": "python",
   "name": "python3"
  },
  "language_info": {
   "codemirror_mode": {
    "name": "ipython",
    "version": 3
   },
   "file_extension": ".py",
   "mimetype": "text/x-python",
   "name": "python",
   "nbconvert_exporter": "python",
   "pygments_lexer": "ipython3",
   "version": "3.10.8"
  },
  "orig_nbformat": 4,
  "vscode": {
   "interpreter": {
    "hash": "1771f463adec221605ed8290eba291b36d26fe666ea33ff5fac3f1f0d3bf8b97"
   }
  }
 },
 "nbformat": 4,
 "nbformat_minor": 2
}
